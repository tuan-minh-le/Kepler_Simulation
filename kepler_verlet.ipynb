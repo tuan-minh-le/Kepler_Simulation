{
 "cells": [
  {
   "cell_type": "code",
   "execution_count": 5,
   "metadata": {},
   "outputs": [],
   "source": [
    "import numpy as np \n",
    "import matplotlib.pyplot as plt"
   ]
  },
  {
   "cell_type": "code",
   "execution_count": 6,
   "metadata": {},
   "outputs": [],
   "source": [
    "# définition des fonctions k1, l1, k2, l2 et g\n",
    "def k1(x, y, G, M):\n",
    "    return (-G*M*x)/np.power((x**2+y**2), 3/2)\n",
    "\n",
    "def l1(x, y, G, M):\n",
    "    return (-G*M*y)/np.power((x**2+y**2), 3/2)\n",
    "\n",
    "def k2(u, v):\n",
    "    return u\n",
    "\n",
    "def l2(u, v):\n",
    "    return v"
   ]
  },
  {
   "cell_type": "code",
   "execution_count": 7,
   "metadata": {},
   "outputs": [],
   "source": [
    "# méthode Verlet\n",
    "def fct_Verlet_2D(x0, y0, x_prime0, y_prime0, tmin, tmax, pas, K, L, G, M):\n",
    "    \"\"\"\n",
    "    Implémente la méthode de Verlet pour un système d'équations différentielles en 2D.\n",
    "\n",
    "    Arguments :\n",
    "    - x0, y0, x_prime0, y_prime0 : conditions initiales (valeurs de x et y à t = tmin)\n",
    "    - tmin : début de l'intervalle de temps\n",
    "    - tmax : fin de l'intervalle de temps\n",
    "    - pas : pas de discrétisation\n",
    "    - K : fonction K(t, x, y) définissant l'équation différentielle d²x/dt² = K\n",
    "    - L : fonction L(t, x, y) définissant l'équation différentielle d²y/dt² = L\n",
    "\n",
    "    Retourne :\n",
    "    - x : tableau des valeurs de x(t)\n",
    "    - y : tableau des valeurs de y(t)\n",
    "    - t : tableau des instants de temps\n",
    "    \"\"\"\n",
    "    t = np.arange(tmin,tmax+pas,pas)\n",
    "    x = np.zeros(len(t))\n",
    "    x[0] = x0\n",
    "    y = np.zeros(len(t))\n",
    "    y[0] = y0\n",
    "\n",
    "    # Initilisation pour la première valeur\n",
    "    x[1] = x[0] + x_prime0 * pas + 0.5*K(x[0],y[0], G, M)* pas**2\n",
    "    y[1] = y[0] + y_prime0 * pas + 0.5*L(x[0],y[0], G, M)* pas**2\n",
    "\n",
    "    \n",
    "    for k in range(2,len(t)):\n",
    "        x[k] = 2*x[k-1] - x[k-2] + K(x[k-1],y[k-1], G, M) * pas**2\n",
    "        y[k] = 2*y[k-1] - y[k-2] + L(x[k-1],y[k-1], G, M) * pas**2\n",
    "        \n",
    "    return x, y, t"
   ]
  },
  {
   "cell_type": "code",
   "execution_count": null,
   "metadata": {},
   "outputs": [
    {
     "data": {
      "image/png": "[encoded data removed]",
      "text/plain": [
       "<Figure size 432x288 with 1 Axes>"
      ]
     },
     "metadata": {
      "needs_background": "light"
     },
     "output_type": "display_data"
    }
   ],
   "source": [
    "# paramètres et conditions initiales\n",
    "from matplotlib import legend\n",
    "\n",
    "\n",
    "M_soleil = 1\n",
    "G_temp = 4*(np.pi)**2\n",
    "t_min = 0.0\n",
    "t_max = 15\n",
    "h = 0.01\n",
    "x0 = 0.5  # position astre initiale (x)\n",
    "y0 = 0  # position astre initiale (y)\n",
    "x_prime0 = 0  # vitesse astre initiale (x)\n",
    "y_prime0 = 11.5  # vitesse astre initiale (y)\n",
    "beta_RK = 0.5\n",
    "\n",
    "u1 = x_prime0 + h*k1(x0,y0, G_temp, M_soleil)\n",
    "v1 = y_prime0 + h*l1(x0,y0, G_temp, M_soleil)\n",
    "x1 = x0 + h*k2(x_prime0,y_prime0)\n",
    "y1 = y0 + h*l2(x_prime0,y_prime0)\n",
    "\n",
    "\n",
    "# méthode d'Euler-Richardson\n",
    "xVerlet, yVerlet, t = fct_Verlet_2D(x0, y0, x_prime0, y_prime0, t_min, t_max, h, k1, l1, G_temp, M_soleil)\n",
    "\n",
    "# méthode de Runge-Kutta d'ordre 2, conditions initiales différentes\n",
    "t_min = 0.0\n",
    "t_max = 15.0\n",
    "h = 0.01\n",
    "x0 = 0.5  # position astre initiale (x)\n",
    "y0 = 0  # position astre initiale (y)\n",
    "x_prime0 = -2.1  # vitesse astre initiale (x)\n",
    "y_prime0 = 15.5  # vitesse astre initiale (y)\n",
    "\n",
    "# Tracer les trajectoires\n",
    "plt.figure()\n",
    "plt.plot(xVerlet, yVerlet, label=\"Méthode de Verlet\", linestyle=\"-\", color=\"b\")\n",
    "# Ajouter le centre d'attraction (astre central)\n",
    "plt.scatter(0, 0, color=\"black\", marker=\"o\", label=\"Centre d'attraction\")\n",
    "\n",
    "# Labels et légende\n",
    "plt.xlabel(\"Position x\")\n",
    "plt.ylabel(\"Position y\")\n",
    "plt.title(\"Simulation de Kepler via EDO (Méthode de Verlet)\")\n",
    "plt.legend()\n",
    "plt.grid()\n",
    "plt.axis(\"equal\")  # Pour conserver les proportions réelles\n",
    "\n",
    "plt.show()"
   ]
  }
 ],
 "metadata": {
  "kernelspec": {
   "display_name": "base",
   "language": "python",
   "name": "python3"
  },
  "language_info": {
   "codemirror_mode": {
    "name": "ipython",
    "version": 3
   },
   "file_extension": ".py",
   "mimetype": "text/x-python",
   "name": "python",
   "nbconvert_exporter": "python",
   "pygments_lexer": "ipython3",
   "version": "3.8.8"
  }
 },
 "nbformat": 4,
 "nbformat_minor": 2
}
